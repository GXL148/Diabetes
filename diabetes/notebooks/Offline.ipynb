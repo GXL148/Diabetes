{
 "cells": [
  {
   "cell_type": "code",
   "execution_count": 34,
   "metadata": {},
   "outputs": [],
   "source": [
    "import numpy as np\n",
    "import pandas as pd\n",
    "from sklearn.ensemble import ExtraTreesRegressor\n",
    "from sklearn.linear_model import RidgeCV\n",
    "from sklearn.model_selection import train_test_split\n",
    "from sklearn.neighbors import KNeighborsRegressor\n",
    "from sklearn.pipeline import make_pipeline, make_union\n",
    "from sklearn.feature_selection import VarianceThreshold\n",
    "from sklearn.metrics import mean_squared_error\n",
    "from sklearn.preprocessing import MinMaxScaler\n",
    "from sklearn.svm import SVR\n",
    "from sklearn.linear_model import LinearRegression, ElasticNet\n",
    "from sklearn.linear_model import Lasso\n",
    "from sklearn.linear_model import Ridge\n",
    "from sklearn.model_selection import KFold  \n",
    "from sklearn.feature_selection import SelectPercentile, f_regression\n",
    "import lightgbm as lgb\n",
    "from sklearn.ensemble import GradientBoostingRegressor\n",
    "import copy as cp\n",
    "from sklearn.preprocessing import MaxAbsScaler\n",
    "from sklearn.svm import LinearSVR\n",
    "from tpot.builtins import StackingEstimator"
   ]
  },
  {
   "cell_type": "code",
   "execution_count": 35,
   "metadata": {
    "collapsed": true
   },
   "outputs": [],
   "source": [
    "train = pd.read_csv(\"../data/processed/train.csv\")"
   ]
  },
  {
   "cell_type": "code",
   "execution_count": 36,
   "metadata": {
    "collapsed": true
   },
   "outputs": [],
   "source": [
    "train.pop(\"id\")\n",
    "target = train.pop(\"血糖\")"
   ]
  },
  {
   "cell_type": "code",
   "execution_count": 37,
   "metadata": {
    "collapsed": true
   },
   "outputs": [],
   "source": [
    "X = train.as_matrix()\n",
    "Y = target.as_matrix()"
   ]
  },
  {
   "cell_type": "code",
   "execution_count": 38,
   "metadata": {
    "collapsed": true
   },
   "outputs": [],
   "source": [
    "def get_dummies(train, test):\n",
    "    df_train = pd.DataFrame(train)\n",
    "    df_test = pd.DataFrame(test)\n",
    "    \n",
    "    df_total = pd.concat([df_train, df_test])\n",
    "\n",
    "    columns = df_total.columns.tolist()\n",
    "    one_hots = pd.DataFrame()\n",
    "    for column in columns:\n",
    "        one_hot = pd.get_dummies(df_total[column], prefix=column)\n",
    "        one_hots = pd.concat([one_hot,one_hots],axis=1)\n",
    "        df_total.pop(column)\n",
    "    df_total = one_hots\n",
    "    \n",
    "    length = train.shape[0]\n",
    "    \n",
    "    train = df_total[0:length]\n",
    "    test = df_total[length:]\n",
    "\n",
    "    \n",
    "    return train.as_matrix(), test.as_matrix()\n",
    "    "
   ]
  },
  {
   "cell_type": "code",
   "execution_count": 42,
   "metadata": {},
   "outputs": [
    {
     "name": "stderr",
     "output_type": "stream",
     "text": [
      "C:\\Users\\altman\\Anaconda3\\lib\\site-packages\\lightgbm\\basic.py:642: UserWarning: max_bin keyword has been found in `params` and will be ignored. Please use max_bin argument of the Dataset constructor to pass this parameter.\n",
      "  'Please use {0} argument of the Dataset constructor to pass this parameter.'.format(key))\n",
      "C:\\Users\\altman\\Anaconda3\\lib\\site-packages\\lightgbm\\basic.py:648: LGBMDeprecationWarning: The `max_bin` parameter is deprecated and will be removed in 2.0.12 version. Please use `params` to pass this parameter.\n",
      "  'Please use `params` to pass this parameter.', LGBMDeprecationWarning)\n",
      "C:\\Users\\altman\\Anaconda3\\lib\\site-packages\\lightgbm\\basic.py:642: UserWarning: max_bin keyword has been found in `params` and will be ignored. Please use max_bin argument of the Dataset constructor to pass this parameter.\n",
      "  'Please use {0} argument of the Dataset constructor to pass this parameter.'.format(key))\n",
      "C:\\Users\\altman\\Anaconda3\\lib\\site-packages\\lightgbm\\basic.py:648: LGBMDeprecationWarning: The `max_bin` parameter is deprecated and will be removed in 2.0.12 version. Please use `params` to pass this parameter.\n",
      "  'Please use `params` to pass this parameter.', LGBMDeprecationWarning)\n",
      "C:\\Users\\altman\\Anaconda3\\lib\\site-packages\\lightgbm\\basic.py:642: UserWarning: max_bin keyword has been found in `params` and will be ignored. Please use max_bin argument of the Dataset constructor to pass this parameter.\n",
      "  'Please use {0} argument of the Dataset constructor to pass this parameter.'.format(key))\n",
      "C:\\Users\\altman\\Anaconda3\\lib\\site-packages\\lightgbm\\basic.py:648: LGBMDeprecationWarning: The `max_bin` parameter is deprecated and will be removed in 2.0.12 version. Please use `params` to pass this parameter.\n",
      "  'Please use `params` to pass this parameter.', LGBMDeprecationWarning)\n",
      "C:\\Users\\altman\\Anaconda3\\lib\\site-packages\\lightgbm\\basic.py:642: UserWarning: max_bin keyword has been found in `params` and will be ignored. Please use max_bin argument of the Dataset constructor to pass this parameter.\n",
      "  'Please use {0} argument of the Dataset constructor to pass this parameter.'.format(key))\n",
      "C:\\Users\\altman\\Anaconda3\\lib\\site-packages\\lightgbm\\basic.py:648: LGBMDeprecationWarning: The `max_bin` parameter is deprecated and will be removed in 2.0.12 version. Please use `params` to pass this parameter.\n",
      "  'Please use `params` to pass this parameter.', LGBMDeprecationWarning)\n",
      "C:\\Users\\altman\\Anaconda3\\lib\\site-packages\\lightgbm\\basic.py:642: UserWarning: max_bin keyword has been found in `params` and will be ignored. Please use max_bin argument of the Dataset constructor to pass this parameter.\n",
      "  'Please use {0} argument of the Dataset constructor to pass this parameter.'.format(key))\n",
      "C:\\Users\\altman\\Anaconda3\\lib\\site-packages\\lightgbm\\basic.py:648: LGBMDeprecationWarning: The `max_bin` parameter is deprecated and will be removed in 2.0.12 version. Please use `params` to pass this parameter.\n",
      "  'Please use `params` to pass this parameter.', LGBMDeprecationWarning)\n"
     ]
    },
    {
     "name": "stdout",
     "output_type": "stream",
     "text": [
      "Mean squared error: 0.95963\n"
     ]
    }
   ],
   "source": [
    "N = 5\n",
    "kf = KFold(n_splits=N, random_state=42)\n",
    "result_mean = 0.0\n",
    "\n",
    "for train_index, test_index in kf.split(X):\n",
    "    training_features, training_target = X[train_index], Y[train_index]\n",
    "    testing_features, testing_target = X[test_index], Y[test_index]\n",
    "\n",
    "    exported_pipeline = make_pipeline(\n",
    "        MaxAbsScaler(),\n",
    "        StackingEstimator(estimator=LinearSVR(C=0.01, dual=False, epsilon=1.0, loss=\"squared_epsilon_insensitive\", tol=0.001)),\n",
    "        StackingEstimator(estimator=RidgeCV()),\n",
    "        lgb.LGBMRegressor(objective='regression',\n",
    "                        boosting_type =\"GBDT\",\n",
    "                        num_leaves=17,\n",
    "                        learning_rate=0.01,\n",
    "                        feature_fraction=0.5,\n",
    "                        bagging_fraction=0.5,\n",
    "                        bagging_freq=5,\n",
    "                        reg_alpha=1,\n",
    "                        reg_lambda=0.5,\n",
    "                        n_estimators=500)\n",
    "    )\n",
    "    \n",
    "    exported_pipeline.fit(training_features, training_target)\n",
    "    results = exported_pipeline.predict(testing_features)\n",
    "\n",
    "    result_mean += np.round(mean_squared_error(testing_target, results), 5)\n",
    "result_mean /= N\n",
    "print(\"Mean squared error: %.5f\" % (result_mean/2))"
   ]
  },
  {
   "cell_type": "code",
   "execution_count": null,
   "metadata": {
    "collapsed": true
   },
   "outputs": [],
   "source": []
  },
  {
   "cell_type": "code",
   "execution_count": null,
   "metadata": {
    "collapsed": true
   },
   "outputs": [],
   "source": []
  },
  {
   "cell_type": "code",
   "execution_count": null,
   "metadata": {
    "collapsed": true
   },
   "outputs": [],
   "source": []
  },
  {
   "cell_type": "code",
   "execution_count": null,
   "metadata": {
    "collapsed": true
   },
   "outputs": [],
   "source": []
  },
  {
   "cell_type": "code",
   "execution_count": 33,
   "metadata": {},
   "outputs": [
    {
     "name": "stdout",
     "output_type": "stream",
     "text": [
      "Mean squared error: 0.97715\n"
     ]
    }
   ],
   "source": [
    "params = {\n",
    "    'task': 'train',\n",
    "    'boosting_type': 'gbdt',\n",
    "    'objective': 'regression',\n",
    "    'metric': {'mse'},\n",
    "    'num_leaves': 17,\n",
    "    'learning_rate': 0.01,\n",
    "    'lambda_l1': 1,\n",
    "    'lambda_l2': 0.5,\n",
    "    'cat_smooth': 10,\n",
    "    'feature_fraction': 0.5,\n",
    "    'bagging_fraction':0.5,\n",
    "    'bagging_freq': 5,\n",
    "    'verbose': 0\n",
    "}\n",
    "\n",
    "N = 5\n",
    "kf = KFold(n_splits=N, random_state=42)\n",
    "result_mean = 0.0\n",
    "\n",
    "for train_index, test_index in kf.split(X):\n",
    "    training_features, training_target = X[train_index], Y[train_index]\n",
    "    testing_features, testing_target = X[test_index], Y[test_index]\n",
    "\n",
    "    lgb_train = lgb.Dataset(training_features, training_target)\n",
    "    gbm = lgb.train(params,\n",
    "                    lgb_train,\n",
    "                    num_boost_round=500)\n",
    "    results = gbm.predict(testing_features)\n",
    "\n",
    "    result_mean += np.round(mean_squared_error(testing_target, results), 5)\n",
    "result_mean /= N\n",
    "print(\"Mean squared error: %.5f\" % (result_mean/2))"
   ]
  },
  {
   "cell_type": "code",
   "execution_count": null,
   "metadata": {
    "collapsed": true
   },
   "outputs": [],
   "source": [
    "N = 5\n",
    "kf = KFold(n_splits=N, random_state=42)\n",
    "result_mean = 0.0\n",
    "\n",
    "for train_index, test_index in kf.split(X):\n",
    "    training_features, training_target = X[train_index], Y[train_index]\n",
    "    testing_features, testing_target = X[test_index], Y[test_index]\n",
    "\n",
    "    exported_pipeline = make_pipeline(\n",
    "        MaxAbsScaler(),\n",
    "        StackingEstimator(estimator=LinearSVR(C=0.01, dual=False, epsilon=1.0, loss=\"squared_epsilon_insensitive\", tol=0.001)),\n",
    "        StackingEstimator(estimator=RidgeCV()),\n",
    "        ExtraTreesRegressor(bootstrap=False, min_samples_leaf=4, min_samples_split=6, n_estimators=100)\n",
    "    )\n",
    "    exported_pipeline.fit(training_features, training_target)\n",
    "    results = exported_pipeline.predict(testing_features)\n",
    "\n",
    "    result_mean += np.round(mean_squared_error(testing_target, results), 5)\n",
    "result_mean /= N\n",
    "print(\"Mean squared error: %.5f\" % (result_mean/2))"
   ]
  }
 ],
 "metadata": {
  "kernelspec": {
   "display_name": "Python 3",
   "language": "python",
   "name": "python3"
  },
  "language_info": {
   "codemirror_mode": {
    "name": "ipython",
    "version": 3
   },
   "file_extension": ".py",
   "mimetype": "text/x-python",
   "name": "python",
   "nbconvert_exporter": "python",
   "pygments_lexer": "ipython3",
   "version": "3.6.3"
  }
 },
 "nbformat": 4,
 "nbformat_minor": 2
}

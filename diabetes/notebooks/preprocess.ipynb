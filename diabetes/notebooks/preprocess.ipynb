{
 "cells": [
  {
   "cell_type": "code",
   "execution_count": 5,
   "metadata": {
    "collapsed": true
   },
   "outputs": [],
   "source": [
    "import pandas as pd\n",
    "import numpy as np\n",
    "from PredictNan import PredictNan\n",
    "import datetime\n",
    "import math"
   ]
  },
  {
   "cell_type": "code",
   "execution_count": 35,
   "metadata": {
    "collapsed": true
   },
   "outputs": [],
   "source": [
    "train = pd.read_csv(\"../data/raw/d_train.csv\")\n",
    "test = pd.read_csv(\"../data/raw/d_test_A.csv\")\n",
    "\n",
    "test_id = test.pop(\"id\")\n",
    "train_id =  train.pop(\"id\")\n",
    "\n",
    "total_ID = pd.concat([train_id, test_id])\n",
    "\n",
    "target = pd.DataFrame(train.pop(\"血糖\"))\n",
    "\n",
    "total = pd.concat([train,test])\n",
    "\n",
    "columns = [\"*r-谷氨酰基转换酶\",\n",
    "           \"*球蛋白\",\n",
    "           \"低密度脂蛋白胆固醇\",\n",
    "           \"乙肝e抗体\",\n",
    "           \"红细胞计数\",\n",
    "           \"中性粒细胞%\",\n",
    "           ]\n",
    "for column in columns:\n",
    "    total[column] = total[column].apply(lambda x : np.log1p(x))\n",
    "\n",
    "\n",
    "columns = [\n",
    "          \"红细胞平均血红蛋白量\",\n",
    "          \"血小板比积\"]\n",
    "for column in columns:\n",
    "    total.pop(column)\n",
    "\n",
    "#添加统计量\n",
    "columns = [\"age\",\"甘油三酯\",\"红细胞平均体积\",\"尿素\",\"尿酸\",\"*碱性磷酸酶\",\"红细胞平均血红蛋白浓度\",\"*天门冬氨酸氨基转换酶\",\n",
    "          \"*r-谷氨酰基转换酶\",\n",
    "          ]\n",
    "for column in columns:\n",
    "    if column != \"date\" and column != \"gender\":\n",
    "        max_value = total[column].max()\n",
    "        min_value = total[column].min()\n",
    "        avg_value = total[column].mean()\n",
    "        total[column+\"max\"] = total[column].apply(lambda x : x - max_value)\n",
    "        \n",
    "total['date'] = pd.to_datetime(total['date'])\n",
    "total['weekday'] = total['date'].dt.weekday\n",
    "total.drop(['date'], axis=1, inplace=True)\n",
    "total = pd.get_dummies(total, columns=['weekday'])\n",
    "\n",
    "\n",
    "\n",
    "one_hot = pd.get_dummies(total[\"gender\"], prefix=\"gender\")\n",
    "total.pop(\"gender\")\n",
    "total = pd.concat([one_hot,total],axis=1)\n",
    "\n",
    "#处理缺失值\n",
    "columns = total.columns.tolist()\n",
    "for column in columns:\n",
    "    #0.908\n",
    "    #total[column] = total[column].fillna(total[column].mean())\n",
    "    #0.8000\n",
    "    total[column] = total[column].fillna(total[column].median())\n",
    "train = total[0:5642]\n",
    "train = pd.concat([train_id,train,target],axis=1)\n",
    "\n",
    "test = total[5642:]\n",
    "test = pd.concat([test_id,test],axis=1)\n",
    "train.to_csv(\"../data/processed/train_best.csv\",index=False,encoding=\"utf8\")\n",
    "test.to_csv(\"../data/processed/test_best.csv\",index=False,encoding=\"utf8\")\n",
    "\n"
   ]
  },
  {
   "cell_type": "code",
   "execution_count": 41,
   "metadata": {},
   "outputs": [],
   "source": [
    "train = pd.read_csv(\"../data/raw/d_train.csv\")\n",
    "test = pd.read_csv(\"../data/raw/d_test_A.csv\")\n",
    "\n",
    "test_id = test.pop(\"id\")\n",
    "train_id =  train.pop(\"id\")\n",
    "\n",
    "total_ID = pd.concat([train_id, test_id])\n",
    "\n",
    "target = pd.DataFrame(train.pop(\"血糖\"))\n",
    "\n",
    "total = pd.concat([train,test])\n",
    "\n",
    "total['date'] = pd.to_datetime(total['date'])\n",
    "total['weekday'] = total['date'].dt.weekday\n",
    "total.drop(['date'], axis=1, inplace=True)\n",
    "total = pd.get_dummies(total, columns=['weekday'])\n",
    "\n",
    "#处理缺失值\n",
    "columns = total.columns.tolist()\n",
    "for column in columns:\n",
    "    #0.908\n",
    "    #total[column] = total[column].fillna(total[column].mean())\n",
    "    #0.8000\n",
    "    total[column] = total[column].fillna(total[column].median())\n",
    "    \n",
    "columns = [\"*r-谷氨酰基转换酶\",\n",
    "           \"*球蛋白\",\n",
    "           \"低密度脂蛋白胆固醇\",\n",
    "           \"乙肝e抗体\",\n",
    "           \"红细胞计数\",\n",
    "           \"中性粒细胞%\",\n",
    "           ]\n",
    "for column in columns:\n",
    "    total[column] = total[column].apply(lambda x: np.log1p(x))\n",
    "    \n",
    "    \n",
    "    \n",
    "\n",
    "columns = [\"age\", \"甘油三酯\", \"红细胞平均体积\", \"尿素\", \"尿酸\", \"*碱性磷酸酶\", \"红细胞平均血红蛋白浓度\", \"*天门冬氨酸氨基转换酶\",\n",
    "           \"*r-谷氨酰基转换酶\"]\n",
    "for column in columns:\n",
    "    if column != \"date\" and column != \"gender\":\n",
    "        max_value = total[column].max()\n",
    "        min_value = total[column].min()\n",
    "        avg_value = total[column].mean()\n",
    "        std_value = total[column].std()\n",
    "\n",
    "        total[column+\"max\"] = total[column].apply(lambda x : x - max_value)\n",
    "        total[column+\"min\"] = total[column].apply(lambda x : x - min_value)\n",
    "        total[column+\"avg\"] = total[column].apply(lambda x : x - avg_value)\n",
    "        total[column+\"std\"] = total[column].apply(lambda x : (x - avg_value)/std_value)\n",
    "       \n",
    "        \n",
    "columns = [\"甘油三酯\", \"尿酸\"]\n",
    "source = \"age\"\n",
    "for column in columns:\n",
    "    total[source + \"*\" + column] = total.apply(lambda x: x[source] * x[column], axis=1)\n",
    "\n",
    "columns = [\"尿酸\"]\n",
    "source = \"尿素\"\n",
    "for column in columns:\n",
    "    total[source + \"*\" + column] = total.apply(lambda x: x[source] * x[column], axis=1)\n",
    "\n",
    "columns = [\"红细胞平均血红蛋白浓度\"]\n",
    "source = \"尿酸\"\n",
    "for column in columns:\n",
    "    total[source + \"*\" + column] = total.apply(lambda x: x[source] * x[column], axis=1)\n",
    "'''\n",
    "columns = [\"高密度脂蛋白胆固醇\", \"低密度脂蛋白胆固醇\"]\n",
    "source = \"总胆固醇\"\n",
    "total[\"其他胆固醇和\"] = total.apply(lambda x: x[source] - x[columns[0]] - x[columns[1]], axis=1)\n",
    "\n",
    "columns = [\"白蛋白\", \"*球蛋白\"]\n",
    "source = \"*总蛋白\"\n",
    "total[\"其他蛋白和\"] = total.apply(lambda x: x[source] - x[columns[0]] - x[columns[1]], axis=1)\n",
    "\n",
    "columns = [\"*天门冬氨酸氨基转换酶\", \"*丙氨酸氨基转换酶\", \"*碱性磷酸酶\", \"*r-谷氨酰基转换酶\"]\n",
    "total[\"xx酶总和\"] = total.apply(lambda x: x[columns[0]] + x[columns[1]] + x[columns[2]] + x[columns[3]], axis=1)\n",
    "'''\n",
    "#drop_columns = [\"尿素std\",'红细胞平均血红蛋白浓度std', '红细胞平均血红蛋白浓度avg', '甘油三酯avg', '乙肝核心抗体']\n",
    "#for column in drop_columns:\n",
    "#    total.pop(column)\n",
    "    \n",
    "#\n",
    "#total[\"白蛋白/肌酐\"] = total.apply(lambda x: x[\"白蛋白\"]/x[\"肌酐\"], axis=1)\n",
    "#total[\"high_甘油三酯\"] = total[\"甘油三酯\"].apply(lambda x : 1 if x>2 else 0)\n",
    "\n",
    "\n",
    "one_hot = pd.get_dummies(total[\"gender\"], prefix=\"gender\")\n",
    "total.pop(\"gender\")\n",
    "total = pd.concat([one_hot,total],axis=1)\n",
    "\n",
    "train = total[0:5642]\n",
    "train = pd.concat([train_id,train,target],axis=1)\n",
    "\n",
    "test = total[5642:]\n",
    "test = pd.concat([test_id,test],axis=1)\n",
    "train.to_csv(\"../data/processed/train.csv\",index=False,encoding=\"utf8\")\n",
    "test.to_csv(\"../data/processed/test.csv\",index=False,encoding=\"utf8\")"
   ]
  },
  {
   "cell_type": "code",
   "execution_count": null,
   "metadata": {
    "collapsed": true
   },
   "outputs": [],
   "source": []
  },
  {
   "cell_type": "code",
   "execution_count": null,
   "metadata": {
    "collapsed": true
   },
   "outputs": [],
   "source": []
  },
  {
   "cell_type": "code",
   "execution_count": 33,
   "metadata": {
    "collapsed": true
   },
   "outputs": [],
   "source": []
  },
  {
   "cell_type": "code",
   "execution_count": null,
   "metadata": {
    "collapsed": true
   },
   "outputs": [],
   "source": []
  },
  {
   "cell_type": "code",
   "execution_count": null,
   "metadata": {
    "collapsed": true
   },
   "outputs": [],
   "source": []
  },
  {
   "cell_type": "code",
   "execution_count": null,
   "metadata": {
    "collapsed": true
   },
   "outputs": [],
   "source": []
  },
  {
   "cell_type": "code",
   "execution_count": 256,
   "metadata": {
    "collapsed": true
   },
   "outputs": [],
   "source": []
  },
  {
   "cell_type": "code",
   "execution_count": 257,
   "metadata": {
    "collapsed": true
   },
   "outputs": [],
   "source": []
  },
  {
   "cell_type": "code",
   "execution_count": null,
   "metadata": {
    "collapsed": true
   },
   "outputs": [],
   "source": []
  },
  {
   "cell_type": "code",
   "execution_count": null,
   "metadata": {
    "collapsed": true
   },
   "outputs": [],
   "source": []
  },
  {
   "cell_type": "code",
   "execution_count": null,
   "metadata": {
    "collapsed": true
   },
   "outputs": [],
   "source": []
  },
  {
   "cell_type": "code",
   "execution_count": null,
   "metadata": {
    "collapsed": true
   },
   "outputs": [],
   "source": []
  },
  {
   "cell_type": "code",
   "execution_count": null,
   "metadata": {
    "collapsed": true
   },
   "outputs": [],
   "source": []
  },
  {
   "cell_type": "code",
   "execution_count": 218,
   "metadata": {
    "collapsed": true
   },
   "outputs": [],
   "source": []
  },
  {
   "cell_type": "code",
   "execution_count": null,
   "metadata": {
    "collapsed": true
   },
   "outputs": [],
   "source": []
  },
  {
   "cell_type": "code",
   "execution_count": 48,
   "metadata": {
    "collapsed": true
   },
   "outputs": [],
   "source": []
  },
  {
   "cell_type": "code",
   "execution_count": null,
   "metadata": {
    "collapsed": true
   },
   "outputs": [],
   "source": []
  },
  {
   "cell_type": "code",
   "execution_count": null,
   "metadata": {
    "collapsed": true
   },
   "outputs": [],
   "source": []
  },
  {
   "cell_type": "code",
   "execution_count": null,
   "metadata": {
    "collapsed": true
   },
   "outputs": [],
   "source": []
  },
  {
   "cell_type": "code",
   "execution_count": null,
   "metadata": {
    "collapsed": true
   },
   "outputs": [],
   "source": []
  }
 ],
 "metadata": {
  "kernelspec": {
   "display_name": "Python 3",
   "language": "python",
   "name": "python3"
  },
  "language_info": {
   "codemirror_mode": {
    "name": "ipython",
    "version": 3
   },
   "file_extension": ".py",
   "mimetype": "text/x-python",
   "name": "python",
   "nbconvert_exporter": "python",
   "pygments_lexer": "ipython3",
   "version": "3.6.3"
  }
 },
 "nbformat": 4,
 "nbformat_minor": 2
}

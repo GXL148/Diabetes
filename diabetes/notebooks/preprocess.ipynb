{
 "cells": [
  {
   "cell_type": "code",
   "execution_count": 4,
   "metadata": {
    "collapsed": true
   },
   "outputs": [],
   "source": [
    "import pandas as pd\n",
    "import numpy as np\n",
    "from PredictNan import PredictNan\n",
    "import datetime\n",
    "import math"
   ]
  },
  {
   "cell_type": "code",
   "execution_count": 5,
   "metadata": {
    "collapsed": true
   },
   "outputs": [],
   "source": [
    "train = pd.read_csv(\"../data/raw/d_train.csv\")\n",
    "test = pd.read_csv(\"../data/raw/d_test_A.csv\")\n",
    "\n",
    "test_id = test.pop(\"id\")\n",
    "train_id =  train.pop(\"id\")\n",
    "\n",
    "total_ID = pd.concat([train_id, test_id])\n",
    "\n",
    "target = pd.DataFrame(train.pop(\"血糖\"))\n",
    "\n",
    "total = pd.concat([train,test])\n"
   ]
  },
  {
   "cell_type": "code",
   "execution_count": 6,
   "metadata": {},
   "outputs": [],
   "source": [
    "\n",
    "columns = [\"*r-谷氨酰基转换酶\",\n",
    "           \"*球蛋白\",\n",
    "           \"低密度脂蛋白胆固醇\",\n",
    "           \"乙肝e抗体\",\n",
    "           \"红细胞计数\",\n",
    "           \"中性粒细胞%\",\n",
    "           ]\n",
    "for column in columns:\n",
    "    total[column] = total[column].apply(lambda x : np.log1p(x))\n",
    "\n",
    "\n",
    "columns = [\n",
    "          \"红细胞平均血红蛋白量\",\n",
    "          \"血小板比积\"]\n",
    "for column in columns:\n",
    "    total.pop(column)\n",
    "    \n",
    "#添加统计量\n",
    "columns = [\"age\",\"甘油三酯\",\"红细胞平均体积\",\"尿素\",\"尿酸\",\"*碱性磷酸酶\",\"红细胞平均血红蛋白浓度\",\"*天门冬氨酸氨基转换酶\",\n",
    "          \"*r-谷氨酰基转换酶\",\n",
    "          ]\n",
    "for column in columns:\n",
    "    if column != \"date\" and column != \"gender\":\n",
    "        max_value = total[column].max()\n",
    "        min_value = total[column].min()\n",
    "        avg_value = total[column].mean()\n",
    "        total[column+\"max\"] = total[column].apply(lambda x : x - max_value)\n",
    "date = total.pop(\"date\")\n",
    "one_hot = pd.get_dummies(total[\"gender\"], prefix=\"gender\")\n",
    "total.pop(\"gender\")\n",
    "total = pd.concat([one_hot,total],axis=1)\n",
    "\n",
    "#处理缺失值\n",
    "columns = total.columns.tolist()\n",
    "for column in columns:\n",
    "    #0.908\n",
    "    #total[column] = total[column].fillna(total[column].mean())\n",
    "    #0.8000\n",
    "    total[column] = total[column].fillna(total[column].median())\n",
    "train = total[0:5642]\n",
    "train = pd.concat([train_id,train,target],axis=1)\n",
    "\n",
    "test = total[5642:]\n",
    "test = pd.concat([test_id,test],axis=1)\n",
    "train.to_csv(\"../data/processed/train.csv\",index=False,encoding=\"utf8\")\n",
    "test.to_csv(\"../data/processed/test.csv\",index=False,encoding=\"utf8\")\n"
   ]
  },
  {
   "cell_type": "code",
   "execution_count": null,
   "metadata": {
    "collapsed": true
   },
   "outputs": [],
   "source": []
  },
  {
   "cell_type": "code",
   "execution_count": null,
   "metadata": {
    "collapsed": true
   },
   "outputs": [],
   "source": []
  },
  {
   "cell_type": "code",
   "execution_count": null,
   "metadata": {
    "collapsed": true
   },
   "outputs": [],
   "source": []
  },
  {
   "cell_type": "code",
   "execution_count": null,
   "metadata": {
    "collapsed": true
   },
   "outputs": [],
   "source": []
  },
  {
   "cell_type": "code",
   "execution_count": null,
   "metadata": {
    "collapsed": true
   },
   "outputs": [],
   "source": []
  },
  {
   "cell_type": "code",
   "execution_count": null,
   "metadata": {},
   "outputs": [],
   "source": []
  },
  {
   "cell_type": "code",
   "execution_count": 256,
   "metadata": {
    "collapsed": true
   },
   "outputs": [],
   "source": []
  },
  {
   "cell_type": "code",
   "execution_count": 257,
   "metadata": {
    "collapsed": true
   },
   "outputs": [],
   "source": []
  },
  {
   "cell_type": "code",
   "execution_count": null,
   "metadata": {
    "collapsed": true
   },
   "outputs": [],
   "source": []
  },
  {
   "cell_type": "code",
   "execution_count": null,
   "metadata": {
    "collapsed": true
   },
   "outputs": [],
   "source": []
  },
  {
   "cell_type": "code",
   "execution_count": null,
   "metadata": {
    "collapsed": true
   },
   "outputs": [],
   "source": []
  },
  {
   "cell_type": "code",
   "execution_count": null,
   "metadata": {
    "collapsed": true
   },
   "outputs": [],
   "source": []
  },
  {
   "cell_type": "code",
   "execution_count": null,
   "metadata": {
    "collapsed": true
   },
   "outputs": [],
   "source": []
  },
  {
   "cell_type": "code",
   "execution_count": 218,
   "metadata": {
    "collapsed": true
   },
   "outputs": [],
   "source": []
  },
  {
   "cell_type": "code",
   "execution_count": null,
   "metadata": {
    "collapsed": true
   },
   "outputs": [],
   "source": []
  },
  {
   "cell_type": "code",
   "execution_count": 48,
   "metadata": {
    "collapsed": true
   },
   "outputs": [],
   "source": []
  },
  {
   "cell_type": "code",
   "execution_count": null,
   "metadata": {
    "collapsed": true
   },
   "outputs": [],
   "source": []
  },
  {
   "cell_type": "code",
   "execution_count": null,
   "metadata": {
    "collapsed": true
   },
   "outputs": [],
   "source": []
  },
  {
   "cell_type": "code",
   "execution_count": null,
   "metadata": {
    "collapsed": true
   },
   "outputs": [],
   "source": []
  },
  {
   "cell_type": "code",
   "execution_count": null,
   "metadata": {
    "collapsed": true
   },
   "outputs": [],
   "source": []
  }
 ],
 "metadata": {
  "kernelspec": {
   "display_name": "Python 3",
   "language": "python",
   "name": "python3"
  },
  "language_info": {
   "codemirror_mode": {
    "name": "ipython",
    "version": 3
   },
   "file_extension": ".py",
   "mimetype": "text/x-python",
   "name": "python",
   "nbconvert_exporter": "python",
   "pygments_lexer": "ipython3",
   "version": "3.6.3"
  }
 },
 "nbformat": 4,
 "nbformat_minor": 2
}

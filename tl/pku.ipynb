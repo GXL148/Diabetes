{
 "cells": [
  {
   "cell_type": "code",
   "execution_count": null,
   "metadata": {
    "collapsed": true
   },
   "outputs": [],
   "source": [
    "import pandas as pd\n",
    "from util import read_data, save, plt_encoding_error, error"
   ]
  },
  {
   "cell_type": "code",
   "execution_count": null,
   "metadata": {
    "collapsed": true
   },
   "outputs": [],
   "source": [
    "train, test_A, _ = read_data()"
   ]
  },
  {
   "cell_type": "code",
   "execution_count": null,
   "metadata": {
    "collapsed": true
   },
   "outputs": [],
   "source": [
    "pd.set_option('max_columns',100)"
   ]
  },
  {
   "cell_type": "code",
   "execution_count": null,
   "metadata": {
    "collapsed": true
   },
   "outputs": [],
   "source": [
    "rename = {'trueage': '年龄', 'alb':'白蛋白', 'glu':'血糖', 'crea':'肌酐', 'cho':'总胆固醇','tg':'甘油三酯','ua':'尿酸','hdlc':'高密度脂蛋白胆固醇','wbc':'白细胞计数','rbc':'红细胞计数','hct':'红细胞压积','mcv':'红细胞平均体积','mch':'红细胞平均血红蛋白量','mchc':'红细胞平均血红蛋白浓度','plt':'血小板计数','mpv':'血小板平均体积','pdw':'血小板体积分布宽度','lymph_a':'淋巴细胞%'}"
   ]
  },
  {
   "cell_type": "code",
   "execution_count": null,
   "metadata": {
    "collapsed": true
   },
   "outputs": [],
   "source": [
    "p_2014 = pd.read_csv('D:/contest/diabetes/dataverse_files/biomarker_dataset_CLHLS_2014-1.tab',sep='\\s+')\n",
    "p_2012 = pd.read_csv('D:/contest/diabetes/dataverse_files/biomarker_dataset_CLHLS_2012-1.tab',sep='\\s+')\n",
    "p_2008 = pd.read_csv('D:/contest/diabetes/dataverse_files/biomarker_dataset_CLHLS_2008-1.tab',sep='\\s+')"
   ]
  },
  {
   "cell_type": "code",
   "execution_count": null,
   "metadata": {
    "collapsed": true
   },
   "outputs": [],
   "source": [
    "p_2014 = p_2014.rename(columns=rename)\n",
    "p_2012 = p_2012.rename(columns=rename)\n",
    "p_2008 = p_2008.rename(columns=rename)"
   ]
  },
  {
   "cell_type": "code",
   "execution_count": null,
   "metadata": {
    "collapsed": true
   },
   "outputs": [],
   "source": [
    "p_total = pd.concat([p_2008, p_2012, p_2014])"
   ]
  },
  {
   "cell_type": "code",
   "execution_count": null,
   "metadata": {
    "collapsed": true
   },
   "outputs": [],
   "source": [
    "p_col = p_total.columns.tolist()\n",
    "original_col = train.columns.tolist()"
   ]
  },
  {
   "cell_type": "code",
   "execution_count": null,
   "metadata": {
    "collapsed": true
   },
   "outputs": [],
   "source": [
    "contain_list = []\n",
    "for i in p_col:\n",
    "    if i in original_col:\n",
    "        contain_list.append(i)"
   ]
  },
  {
   "cell_type": "code",
   "execution_count": null,
   "metadata": {
    "collapsed": true
   },
   "outputs": [],
   "source": [
    "drop_list = list(set(p_col) - set(original_col))\n",
    "p_total.drop(drop_list, axis=1, inplace=True)"
   ]
  },
  {
   "cell_type": "code",
   "execution_count": null,
   "metadata": {
    "collapsed": true
   },
   "outputs": [],
   "source": [
    "p_total.dropna(subset = ['血糖'], axis=0, inplace=True)"
   ]
  },
  {
   "cell_type": "code",
   "execution_count": null,
   "metadata": {
    "collapsed": true
   },
   "outputs": [],
   "source": [
    "# 异常值处理\n",
    "p_total = p_total[p_total['血糖']<50]\n",
    "p_total = p_total[p_total['年龄']<95]\n",
    "p_total = p_total[p_total['血小板计数']<800]\n",
    "p_total = p_total[p_total['甘油三酯']<20]\n",
    "p_total = p_total[p_total['肌酐']<300]\n",
    "p_total = p_total[p_total['红细胞计数']<20]"
   ]
  },
  {
   "cell_type": "code",
   "execution_count": null,
   "metadata": {
    "collapsed": true
   },
   "outputs": [],
   "source": [
    "# 粗略调整年龄分布\n",
    "large_age_70 = p_total[(p_total['年龄']>70) & (p_total['年龄']<80)].sample(frac=0.8, replace=False, random_state=1, axis=0)\n",
    "large_age_80 = p_total[p_total['年龄']>80].sample(frac=0.3, replace=False, random_state=1, axis=0)\n",
    "p_total = p_total[p_total['年龄']<70]\n",
    "p_total = pd.concat([p_total, large_age_70, large_age_80])"
   ]
  },
  {
   "cell_type": "code",
   "execution_count": null,
   "metadata": {},
   "outputs": [],
   "source": [
    "p_total.describe()"
   ]
  },
  {
   "cell_type": "code",
   "execution_count": null,
   "metadata": {},
   "outputs": [],
   "source": [
    "train.describe()"
   ]
  },
  {
   "cell_type": "code",
   "execution_count": null,
   "metadata": {},
   "outputs": [],
   "source": [
    "# import matplotlib.pyplot as plt\n",
    "# import seaborn as sns #要注意的是一旦导入了seaborn，matplotlib的默认作图风格就会被覆盖成seaborn的格式\n",
    "# #train = train.fillna(-1)\n",
    "# sns.distplot(train['年龄'])\n",
    "# plt.show()"
   ]
  },
  {
   "cell_type": "code",
   "execution_count": null,
   "metadata": {},
   "outputs": [],
   "source": [
    "# import matplotlib.pyplot as plt\n",
    "# import seaborn as sns #要注意的是一旦导入了seaborn，matplotlib的默认作图风格就会被覆盖成seaborn的格式\n",
    "# #train = train.fillna(-1)\n",
    "# sns.distplot(p_total['年龄'])\n",
    "# plt.show()"
   ]
  },
  {
   "cell_type": "code",
   "execution_count": null,
   "metadata": {
    "collapsed": true
   },
   "outputs": [],
   "source": [
    "result = pd.concat([p_total,train])"
   ]
  },
  {
   "cell_type": "code",
   "execution_count": null,
   "metadata": {},
   "outputs": [],
   "source": [
    "result.head()"
   ]
  },
  {
   "cell_type": "code",
   "execution_count": null,
   "metadata": {
    "collapsed": true
   },
   "outputs": [],
   "source": [
    "result['性别'] = result['性别'].map({'男':1, '女':0, '？？':1})\n",
    "result = result.rename(columns={'性别':'gender','年龄':'age','体检日期':'date'})"
   ]
  },
  {
   "cell_type": "code",
   "execution_count": null,
   "metadata": {
    "collapsed": true
   },
   "outputs": [],
   "source": [
    "result.to_csv(\"data_m.csv\",index=False, encoding=\"utf-8\")"
   ]
  }
 ],
 "metadata": {
  "kernelspec": {
   "display_name": "Python 3",
   "language": "python",
   "name": "python3"
  },
  "language_info": {
   "codemirror_mode": {
    "name": "ipython",
    "version": 3
   },
   "file_extension": ".py",
   "mimetype": "text/x-python",
   "name": "python",
   "nbconvert_exporter": "python",
   "pygments_lexer": "ipython3",
   "version": "3.6.3"
  }
 },
 "nbformat": 4,
 "nbformat_minor": 2
}

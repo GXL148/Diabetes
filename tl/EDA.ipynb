{
 "cells": [
  {
   "cell_type": "code",
   "execution_count": 3,
   "metadata": {
    "collapsed": true
   },
   "outputs": [],
   "source": [
    "import pandas as pd\n",
    "from util import read_data, save, plt_encoding_error, error"
   ]
  },
  {
   "cell_type": "code",
   "execution_count": 4,
   "metadata": {
    "collapsed": true
   },
   "outputs": [],
   "source": [
    "train, test_A, _ = read_data()\n",
    "\n",
    "num_train = len(train)\n",
    "num_test_A = len(test_A)\n",
    "\n",
    "train_m = pd.concat([train, test_A])"
   ]
  },
  {
   "cell_type": "code",
   "execution_count": 18,
   "metadata": {
    "collapsed": true
   },
   "outputs": [],
   "source": [
    "minssing_num = pd.DataFrame({'missing_num':len(train.columns) - train.T.count()})\n",
    "train = pd.concat([train, minssing_num], axis = 1)"
   ]
  },
  {
   "cell_type": "code",
   "execution_count": 5,
   "metadata": {},
   "outputs": [
    {
     "data": {
      "text/html": [
       "<div>\n",
       "<style>\n",
       "    .dataframe thead tr:only-child th {\n",
       "        text-align: right;\n",
       "    }\n",
       "\n",
       "    .dataframe thead th {\n",
       "        text-align: left;\n",
       "    }\n",
       "\n",
       "    .dataframe tbody tr th {\n",
       "        vertical-align: top;\n",
       "    }\n",
       "</style>\n",
       "<table border=\"1\" class=\"dataframe\">\n",
       "  <thead>\n",
       "    <tr style=\"text-align: right;\">\n",
       "      <th></th>\n",
       "      <th>id</th>\n",
       "      <th>年龄</th>\n",
       "      <th>*天门冬氨酸氨基转换酶</th>\n",
       "      <th>*丙氨酸氨基转换酶</th>\n",
       "      <th>*碱性磷酸酶</th>\n",
       "      <th>*r-谷氨酰基转换酶</th>\n",
       "      <th>*总蛋白</th>\n",
       "      <th>白蛋白</th>\n",
       "      <th>*球蛋白</th>\n",
       "      <th>白球比例</th>\n",
       "      <th>...</th>\n",
       "      <th>血小板计数</th>\n",
       "      <th>血小板平均体积</th>\n",
       "      <th>血小板体积分布宽度</th>\n",
       "      <th>血小板比积</th>\n",
       "      <th>中性粒细胞%</th>\n",
       "      <th>淋巴细胞%</th>\n",
       "      <th>单核细胞%</th>\n",
       "      <th>嗜酸细胞%</th>\n",
       "      <th>嗜碱细胞%</th>\n",
       "      <th>血糖</th>\n",
       "    </tr>\n",
       "  </thead>\n",
       "  <tbody>\n",
       "    <tr>\n",
       "      <th>count</th>\n",
       "      <td>5642.000000</td>\n",
       "      <td>5642.000000</td>\n",
       "      <td>4421.000000</td>\n",
       "      <td>4421.00000</td>\n",
       "      <td>4421.000000</td>\n",
       "      <td>4421.000000</td>\n",
       "      <td>4421.000000</td>\n",
       "      <td>4421.000000</td>\n",
       "      <td>4421.000000</td>\n",
       "      <td>4421.000000</td>\n",
       "      <td>...</td>\n",
       "      <td>5626.000000</td>\n",
       "      <td>5619.000000</td>\n",
       "      <td>5619.000000</td>\n",
       "      <td>5619.000000</td>\n",
       "      <td>5626.000000</td>\n",
       "      <td>5626.000000</td>\n",
       "      <td>5626.000000</td>\n",
       "      <td>5626.000000</td>\n",
       "      <td>5626.000000</td>\n",
       "      <td>5642.000000</td>\n",
       "    </tr>\n",
       "    <tr>\n",
       "      <th>mean</th>\n",
       "      <td>2866.184155</td>\n",
       "      <td>45.580468</td>\n",
       "      <td>26.805892</td>\n",
       "      <td>27.65202</td>\n",
       "      <td>87.482278</td>\n",
       "      <td>38.823762</td>\n",
       "      <td>76.771108</td>\n",
       "      <td>45.822504</td>\n",
       "      <td>30.948604</td>\n",
       "      <td>1.502538</td>\n",
       "      <td>...</td>\n",
       "      <td>253.085318</td>\n",
       "      <td>10.653444</td>\n",
       "      <td>13.304414</td>\n",
       "      <td>0.267907</td>\n",
       "      <td>56.718468</td>\n",
       "      <td>33.778546</td>\n",
       "      <td>6.856772</td>\n",
       "      <td>2.043797</td>\n",
       "      <td>0.603697</td>\n",
       "      <td>5.631925</td>\n",
       "    </tr>\n",
       "    <tr>\n",
       "      <th>std</th>\n",
       "      <td>1655.555649</td>\n",
       "      <td>12.961946</td>\n",
       "      <td>13.563003</td>\n",
       "      <td>22.61152</td>\n",
       "      <td>25.630897</td>\n",
       "      <td>40.788282</td>\n",
       "      <td>4.016055</td>\n",
       "      <td>2.617401</td>\n",
       "      <td>3.565997</td>\n",
       "      <td>0.220621</td>\n",
       "      <td>...</td>\n",
       "      <td>59.586828</td>\n",
       "      <td>0.985484</td>\n",
       "      <td>2.173716</td>\n",
       "      <td>0.060503</td>\n",
       "      <td>7.799940</td>\n",
       "      <td>7.253097</td>\n",
       "      <td>1.567583</td>\n",
       "      <td>1.710901</td>\n",
       "      <td>0.291760</td>\n",
       "      <td>1.544882</td>\n",
       "    </tr>\n",
       "    <tr>\n",
       "      <th>min</th>\n",
       "      <td>1.000000</td>\n",
       "      <td>3.000000</td>\n",
       "      <td>10.040000</td>\n",
       "      <td>0.12000</td>\n",
       "      <td>22.980000</td>\n",
       "      <td>6.360000</td>\n",
       "      <td>57.320000</td>\n",
       "      <td>29.540000</td>\n",
       "      <td>7.060000</td>\n",
       "      <td>0.520000</td>\n",
       "      <td>...</td>\n",
       "      <td>37.000000</td>\n",
       "      <td>7.100000</td>\n",
       "      <td>8.000000</td>\n",
       "      <td>0.042000</td>\n",
       "      <td>14.400000</td>\n",
       "      <td>7.500000</td>\n",
       "      <td>3.100000</td>\n",
       "      <td>0.000000</td>\n",
       "      <td>0.000000</td>\n",
       "      <td>3.070000</td>\n",
       "    </tr>\n",
       "    <tr>\n",
       "      <th>25%</th>\n",
       "      <td>1433.250000</td>\n",
       "      <td>35.000000</td>\n",
       "      <td>20.250000</td>\n",
       "      <td>15.13000</td>\n",
       "      <td>70.370000</td>\n",
       "      <td>17.810000</td>\n",
       "      <td>74.190000</td>\n",
       "      <td>44.130000</td>\n",
       "      <td>28.570000</td>\n",
       "      <td>1.360000</td>\n",
       "      <td>...</td>\n",
       "      <td>213.000000</td>\n",
       "      <td>10.000000</td>\n",
       "      <td>11.700000</td>\n",
       "      <td>0.230000</td>\n",
       "      <td>51.600000</td>\n",
       "      <td>28.800000</td>\n",
       "      <td>5.800000</td>\n",
       "      <td>0.900000</td>\n",
       "      <td>0.400000</td>\n",
       "      <td>4.920000</td>\n",
       "    </tr>\n",
       "    <tr>\n",
       "      <th>50%</th>\n",
       "      <td>2870.500000</td>\n",
       "      <td>45.000000</td>\n",
       "      <td>23.890000</td>\n",
       "      <td>21.48000</td>\n",
       "      <td>84.470000</td>\n",
       "      <td>26.190000</td>\n",
       "      <td>76.630000</td>\n",
       "      <td>45.820000</td>\n",
       "      <td>30.780000</td>\n",
       "      <td>1.490000</td>\n",
       "      <td>...</td>\n",
       "      <td>249.000000</td>\n",
       "      <td>10.600000</td>\n",
       "      <td>12.900000</td>\n",
       "      <td>0.260000</td>\n",
       "      <td>56.700000</td>\n",
       "      <td>33.600000</td>\n",
       "      <td>6.700000</td>\n",
       "      <td>1.600000</td>\n",
       "      <td>0.600000</td>\n",
       "      <td>5.290000</td>\n",
       "    </tr>\n",
       "    <tr>\n",
       "      <th>75%</th>\n",
       "      <td>4302.750000</td>\n",
       "      <td>54.000000</td>\n",
       "      <td>29.270000</td>\n",
       "      <td>32.30000</td>\n",
       "      <td>100.210000</td>\n",
       "      <td>43.850000</td>\n",
       "      <td>79.530000</td>\n",
       "      <td>47.570000</td>\n",
       "      <td>33.180000</td>\n",
       "      <td>1.630000</td>\n",
       "      <td>...</td>\n",
       "      <td>289.000000</td>\n",
       "      <td>11.300000</td>\n",
       "      <td>14.600000</td>\n",
       "      <td>0.300000</td>\n",
       "      <td>62.000000</td>\n",
       "      <td>38.500000</td>\n",
       "      <td>7.700000</td>\n",
       "      <td>2.600000</td>\n",
       "      <td>0.700000</td>\n",
       "      <td>5.767500</td>\n",
       "    </tr>\n",
       "    <tr>\n",
       "      <th>max</th>\n",
       "      <td>5732.000000</td>\n",
       "      <td>93.000000</td>\n",
       "      <td>434.950000</td>\n",
       "      <td>498.89000</td>\n",
       "      <td>374.320000</td>\n",
       "      <td>736.990000</td>\n",
       "      <td>100.410000</td>\n",
       "      <td>54.080000</td>\n",
       "      <td>66.180000</td>\n",
       "      <td>7.120000</td>\n",
       "      <td>...</td>\n",
       "      <td>745.000000</td>\n",
       "      <td>15.200000</td>\n",
       "      <td>25.300000</td>\n",
       "      <td>0.710000</td>\n",
       "      <td>88.500000</td>\n",
       "      <td>76.300000</td>\n",
       "      <td>23.200000</td>\n",
       "      <td>22.500000</td>\n",
       "      <td>3.500000</td>\n",
       "      <td>38.430000</td>\n",
       "    </tr>\n",
       "  </tbody>\n",
       "</table>\n",
       "<p>8 rows × 40 columns</p>\n",
       "</div>"
      ],
      "text/plain": [
       "                id           年龄  *天门冬氨酸氨基转换酶   *丙氨酸氨基转换酶       *碱性磷酸酶  \\\n",
       "count  5642.000000  5642.000000  4421.000000  4421.00000  4421.000000   \n",
       "mean   2866.184155    45.580468    26.805892    27.65202    87.482278   \n",
       "std    1655.555649    12.961946    13.563003    22.61152    25.630897   \n",
       "min       1.000000     3.000000    10.040000     0.12000    22.980000   \n",
       "25%    1433.250000    35.000000    20.250000    15.13000    70.370000   \n",
       "50%    2870.500000    45.000000    23.890000    21.48000    84.470000   \n",
       "75%    4302.750000    54.000000    29.270000    32.30000   100.210000   \n",
       "max    5732.000000    93.000000   434.950000   498.89000   374.320000   \n",
       "\n",
       "        *r-谷氨酰基转换酶         *总蛋白          白蛋白         *球蛋白         白球比例  \\\n",
       "count  4421.000000  4421.000000  4421.000000  4421.000000  4421.000000   \n",
       "mean     38.823762    76.771108    45.822504    30.948604     1.502538   \n",
       "std      40.788282     4.016055     2.617401     3.565997     0.220621   \n",
       "min       6.360000    57.320000    29.540000     7.060000     0.520000   \n",
       "25%      17.810000    74.190000    44.130000    28.570000     1.360000   \n",
       "50%      26.190000    76.630000    45.820000    30.780000     1.490000   \n",
       "75%      43.850000    79.530000    47.570000    33.180000     1.630000   \n",
       "max     736.990000   100.410000    54.080000    66.180000     7.120000   \n",
       "\n",
       "          ...             血小板计数      血小板平均体积    血小板体积分布宽度        血小板比积  \\\n",
       "count     ...       5626.000000  5619.000000  5619.000000  5619.000000   \n",
       "mean      ...        253.085318    10.653444    13.304414     0.267907   \n",
       "std       ...         59.586828     0.985484     2.173716     0.060503   \n",
       "min       ...         37.000000     7.100000     8.000000     0.042000   \n",
       "25%       ...        213.000000    10.000000    11.700000     0.230000   \n",
       "50%       ...        249.000000    10.600000    12.900000     0.260000   \n",
       "75%       ...        289.000000    11.300000    14.600000     0.300000   \n",
       "max       ...        745.000000    15.200000    25.300000     0.710000   \n",
       "\n",
       "            中性粒细胞%        淋巴细胞%        单核细胞%        嗜酸细胞%        嗜碱细胞%  \\\n",
       "count  5626.000000  5626.000000  5626.000000  5626.000000  5626.000000   \n",
       "mean     56.718468    33.778546     6.856772     2.043797     0.603697   \n",
       "std       7.799940     7.253097     1.567583     1.710901     0.291760   \n",
       "min      14.400000     7.500000     3.100000     0.000000     0.000000   \n",
       "25%      51.600000    28.800000     5.800000     0.900000     0.400000   \n",
       "50%      56.700000    33.600000     6.700000     1.600000     0.600000   \n",
       "75%      62.000000    38.500000     7.700000     2.600000     0.700000   \n",
       "max      88.500000    76.300000    23.200000    22.500000     3.500000   \n",
       "\n",
       "                血糖  \n",
       "count  5642.000000  \n",
       "mean      5.631925  \n",
       "std       1.544882  \n",
       "min       3.070000  \n",
       "25%       4.920000  \n",
       "50%       5.290000  \n",
       "75%       5.767500  \n",
       "max      38.430000  \n",
       "\n",
       "[8 rows x 40 columns]"
      ]
     },
     "execution_count": 5,
     "metadata": {},
     "output_type": "execute_result"
    }
   ],
   "source": [
    "train.describe()"
   ]
  },
  {
   "cell_type": "code",
   "execution_count": null,
   "metadata": {
    "collapsed": true,
    "scrolled": true
   },
   "outputs": [],
   "source": [
    "test_A.count()"
   ]
  },
  {
   "cell_type": "code",
   "execution_count": null,
   "metadata": {
    "collapsed": true
   },
   "outputs": [],
   "source": [
    "drop_list = ['id', '血糖','体检日期', '乙肝表面抗原', '乙肝表面抗体', '乙肝e抗原', '乙肝e抗体', '乙肝核心抗体']"
   ]
  },
  {
   "cell_type": "code",
   "execution_count": null,
   "metadata": {
    "collapsed": true
   },
   "outputs": [],
   "source": [
    "train_y = train['血糖']\n",
    "train_m.drop(drop_list, axis=1, inplace=True)"
   ]
  },
  {
   "cell_type": "code",
   "execution_count": null,
   "metadata": {
    "collapsed": true
   },
   "outputs": [],
   "source": [
    "plt_encoding_error()"
   ]
  },
  {
   "cell_type": "code",
   "execution_count": null,
   "metadata": {
    "collapsed": true
   },
   "outputs": [],
   "source": [
    "pd.set_option('max_columns',100)"
   ]
  },
  {
   "cell_type": "code",
   "execution_count": null,
   "metadata": {
    "collapsed": true
   },
   "outputs": [],
   "source": [
    "test_A.describe()"
   ]
  },
  {
   "cell_type": "code",
   "execution_count": 3,
   "metadata": {},
   "outputs": [
    {
     "data": {
      "image/png": "[encoded data removed]",
      "text/plain": [
       "<matplotlib.figure.Figure at 0x1ff83948e48>"
      ]
     },
     "metadata": {},
     "output_type": "display_data"
    }
   ],
   "source": [
    "import matplotlib.pyplot as plt\n",
    "import seaborn as sns #要注意的是一旦导入了seaborn，matplotlib的默认作图风格就会被覆盖成seaborn的格式\n",
    "train = train.fillna(-1)\n",
    "sns.distplot(train['甘油三酯'])\n",
    "plt.show()"
   ]
  },
  {
   "cell_type": "code",
   "execution_count": null,
   "metadata": {
    "collapsed": true
   },
   "outputs": [],
   "source": [
    "import matplotlib.pyplot as plt\n",
    "import seaborn as sns #要注意的是一旦导入了seaborn，matplotlib的默认作图风格就会被覆盖成seaborn的格式\n",
    "test_A = test_A.fillna(-1)\n",
    "sns.distplot(test_A['甘油三酯'])\n",
    "plt.show()"
   ]
  },
  {
   "cell_type": "code",
   "execution_count": null,
   "metadata": {
    "collapsed": true
   },
   "outputs": [],
   "source": []
  }
 ],
 "metadata": {
  "kernelspec": {
   "display_name": "Python 3",
   "language": "python",
   "name": "python3"
  },
  "language_info": {
   "codemirror_mode": {
    "name": "ipython",
    "version": 3
   },
   "file_extension": ".py",
   "mimetype": "text/x-python",
   "name": "python",
   "nbconvert_exporter": "python",
   "pygments_lexer": "ipython3",
   "version": "3.6.3"
  }
 },
 "nbformat": 4,
 "nbformat_minor": 2
}

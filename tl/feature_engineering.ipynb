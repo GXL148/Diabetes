{
 "cells": [
  {
   "cell_type": "code",
   "execution_count": 1,
   "metadata": {
    "collapsed": true
   },
   "outputs": [],
   "source": [
    "import pandas as pd\n",
    "from util import read_data, save, plt_encoding_error, error, normal\n",
    "import matplotlib.pyplot as plt"
   ]
  },
  {
   "cell_type": "code",
   "execution_count": 2,
   "metadata": {
    "collapsed": true
   },
   "outputs": [],
   "source": [
    "train, test_A, _ = read_data()\n",
    "\n",
    "num_train = len(train)\n",
    "num_test_A = len(test_A)\n",
    "\n",
    "train_m = pd.concat([train, test_A])"
   ]
  },
  {
   "cell_type": "code",
   "execution_count": 3,
   "metadata": {
    "collapsed": true
   },
   "outputs": [],
   "source": [
    "train_m['甘油三酯_normal'] = train_m['甘油三酯'].apply(normal, args=(1.69,))\n",
    "train_m['尿素_normal'] = train_m['尿素'].apply(normal, args=(7.1,))\n",
    "train_m['尿酸_normal'] = train_m.apply(lambda x: 0 if (x['性别']=='女' and x['尿酸']>357) or (x['性别']=='男' and x['尿酸']>416) else 1, axis=1)\n",
    "train_m['*天门冬氨酸氨基转换酶_normal'] = train_m['*天门冬氨酸氨基转换酶'].apply(normal, args=(40,))"
   ]
  },
  {
   "cell_type": "code",
   "execution_count": null,
   "metadata": {
    "collapsed": true
   },
   "outputs": [],
   "source": [
    "#添加统计量\n",
    "#columns = total.columns.tolist()\n",
    "columns = [\"年龄\",\"甘油三酯\",\"红细胞平均体积\",\"尿素\",\"尿酸\",\"*碱性磷酸酶\",\"红细胞平均血红蛋白浓度\",\"*天门冬氨酸氨基转换酶\",\n",
    "          \"*r-谷氨酰基转换酶\",\n",
    "          ]\n",
    "\n",
    "for column in columns:\n",
    "    if column != \"体检日期\" and column != \"性别\":\n",
    "        max_value = train_m[column].max()\n",
    "        min_value = train_m[column].min()\n",
    "        avg_value = train_m[column].mean()\n",
    "        train_m[column+\"max\"] = train_m[column].apply(lambda x : x - max_value)\n",
    "        #total[column+\"min\"] = total[column].apply(lambda x : x - min_value)\n",
    "        #total[column+\"avg\"] = total[column].apply(lambda x : x - avg_value)"
   ]
  },
  {
   "cell_type": "code",
   "execution_count": null,
   "metadata": {
    "collapsed": true
   },
   "outputs": [],
   "source": [
    "# 年龄分组\n",
    "# age_cut = pd.cut(train_m['年龄'],[1,20,30,35,40,43,46,49,52,55,58,61,64,67,70,73,76,79,82,85,88])\n",
    "# age_cut = pd.DataFrame({'age':age_cut})\n",
    "# #age_cut.rename(columns={'年龄': 'age'}, inplace=True)\n",
    "# train_m = pd.concat([train_m, age_cut], axis=1)\n",
    "# train_m.drop(['年龄'], axis=1, inplace=True)"
   ]
  },
  {
   "cell_type": "code",
   "execution_count": 4,
   "metadata": {
    "collapsed": true
   },
   "outputs": [],
   "source": [
    "drop_list = ['id', '血糖','体检日期','性别', '血小板比积', '血小板计数', '嗜酸细胞%']"
   ]
  },
  {
   "cell_type": "code",
   "execution_count": 5,
   "metadata": {
    "collapsed": true
   },
   "outputs": [],
   "source": [
    "train_y = train['血糖']\n",
    "train_m.drop(drop_list, axis=1, inplace=True)"
   ]
  },
  {
   "cell_type": "code",
   "execution_count": null,
   "metadata": {
    "collapsed": true
   },
   "outputs": [],
   "source": [
    "# train_m = pd.get_dummies(train_m, columns=['age'])"
   ]
  },
  {
   "cell_type": "code",
   "execution_count": 6,
   "metadata": {
    "collapsed": true
   },
   "outputs": [],
   "source": [
    "# 重新切分训练与测试数据\n",
    "train_x = train_m.iloc[:num_train]\n",
    "test_A_new = train_m.iloc[num_train:num_test_A + num_train]"
   ]
  },
  {
   "cell_type": "code",
   "execution_count": 7,
   "metadata": {
    "collapsed": true
   },
   "outputs": [],
   "source": [
    "features = train_x.columns.tolist()\n",
    "train_X = train_x.as_matrix()\n",
    "train_Y = train_y.as_matrix()\n",
    "\n",
    "test_X = test_A_new.as_matrix()"
   ]
  },
  {
   "cell_type": "code",
   "execution_count": 8,
   "metadata": {
    "collapsed": true
   },
   "outputs": [],
   "source": [
    "from sklearn.model_selection import train_test_split\n",
    "X_train, X_test, y_train, y_test = train_test_split(train_X, train_Y, test_size=0.2, random_state=1)"
   ]
  },
  {
   "cell_type": "code",
   "execution_count": null,
   "metadata": {
    "collapsed": true
   },
   "outputs": [],
   "source": [
    "# from sklearn.metrics import make_scorer\n",
    "# def my_mes(estimator, X_test, y_test):\n",
    "#     y_pred = estimator.predict(X_test)\n",
    "#     return (mean_squared_error(y_test, y_pred) * 0.5)\n",
    "# make_scorer(my_mes, greater_is_better=False)"
   ]
  },
  {
   "cell_type": "code",
   "execution_count": 10,
   "metadata": {},
   "outputs": [
    {
     "name": "stderr",
     "output_type": "stream",
     "text": [
      "C:\\Users\\kyle\\Anaconda3\\lib\\site-packages\\lightgbm\\basic.py:642: UserWarning: max_bin keyword has been found in `params` and will be ignored. Please use max_bin argument of the Dataset constructor to pass this parameter.\n",
      "  'Please use {0} argument of the Dataset constructor to pass this parameter.'.format(key))\n",
      "C:\\Users\\kyle\\Anaconda3\\lib\\site-packages\\lightgbm\\basic.py:648: LGBMDeprecationWarning: The `max_bin` parameter is deprecated and will be removed in 2.0.12 version. Please use `params` to pass this parameter.\n",
      "  'Please use `params` to pass this parameter.', LGBMDeprecationWarning)\n"
     ]
    },
    {
     "name": "stdout",
     "output_type": "stream",
     "text": [
      "Best parameters found by grid search are: {'learning_rate': 0.02, 'min_child_samples': 20, 'n_estimators': 200, 'num_leaves': 31, 'subsample': 0.8}   best_score:  -1.97123751136\n"
     ]
    }
   ],
   "source": [
    "import lightgbm as lgb\n",
    "from sklearn.metrics import mean_squared_error\n",
    "from sklearn.model_selection import GridSearchCV\n",
    "\n",
    "param_grid = dict(num_leaves=[31,48],\n",
    "                  n_estimators=[250, 200],\n",
    "                  learning_rate=[0.01, 0.02,0.03],\n",
    "                  min_child_samples=[10, 20, 40],\n",
    "                  subsample=[0.8, 0.9])\n",
    "lgb_regressor = lgb.LGBMRegressor(\n",
    "                  objective='regression',\n",
    "#                   min_child_samples=20,\n",
    "                  subsample_freq=1,\n",
    "                  colsample_bytree=1.0,\n",
    "                  reg_alpha=1.0,\n",
    "                  reg_lambda=0.0,\n",
    "                  n_jobs=-1)\n",
    "grid = GridSearchCV(cv=5, estimator=lgb_regressor, n_jobs=4, param_grid=param_grid, scoring='neg_mean_squared_error')\n",
    "grid.fit(train_X, train_Y)\n",
    "print('Best parameters found by grid search are:', grid.best_params_, '  best_score: ', grid.best_score_)"
   ]
  },
  {
   "cell_type": "code",
   "execution_count": null,
   "metadata": {
    "collapsed": true
   },
   "outputs": [],
   "source": [
    "# result = grid.predict(test_X)\n",
    "# data1 = pd.DataFrame(result)\n",
    "# save(data1, 'lgb_grid_cv')"
   ]
  },
  {
   "cell_type": "code",
   "execution_count": 20,
   "metadata": {
    "collapsed": true
   },
   "outputs": [],
   "source": [
    "params = {\n",
    "    'boosting': 'gbdt',\n",
    "    'objective': 'regression',\n",
    "    'metric': 'mse',\n",
    "    'num_leaves': 31,\n",
    "    'min_data_in_leaf': 20,\n",
    "    'learning_rate': 0.02,\n",
    "    'lambda_l1':1,\n",
    "#     'lambda_l2':1,\n",
    "    'cat_smooth':10,\n",
    "    'feature_fraction': 0.8,\n",
    "    'bagging_freq': 5,\n",
    "    'verbose': 0\n",
    "}"
   ]
  },
  {
   "cell_type": "code",
   "execution_count": 21,
   "metadata": {},
   "outputs": [
    {
     "name": "stdout",
     "output_type": "stream",
     "text": [
      "1/2 Mean squared error: 0.605948\n",
      "1/2 Mean squared error: 0.963798\n",
      "1/2 Mean squared error: 0.948488\n",
      "1/2 Mean squared error: 1.421974\n",
      "1/2 Mean squared error: 1.005316\n",
      "0.989105001719\n"
     ]
    }
   ],
   "source": [
    "from sklearn.model_selection import KFold\n",
    "import lightgbm as lgb\n",
    "def cv_estimate(n_splits, lgb, train_X, train_Y):\n",
    "    cv = KFold(n_splits=n_splits)\n",
    "    val_scores = 0\n",
    "    for train, test in cv.split(train_X, train_Y):\n",
    "        train_x_k, train_y_k= train_X[train], train_Y[train]                \n",
    "        test_x_k, test_y_k = train_X[test], train_Y[test]\n",
    "        \n",
    "        lgb_train = lgb.Dataset(train_x_k, train_y_k, feature_name = features)\n",
    "        lgb_test = lgb.Dataset(test_x_k, test_y_k)\n",
    "         \n",
    "        gbm = lgb.train(params,\n",
    "                    lgb_train,\n",
    "                    num_boost_round=200)\n",
    "        y = gbm.predict(test_x_k, num_iteration=gbm.best_iteration)\n",
    "        val_scores += error(y, test_y_k)\n",
    "    val_scores /= n_splits\n",
    "    return val_scores\n",
    "\n",
    "scores = cv_estimate(5, lgb, train_X, train_Y)\n",
    "print(scores)"
   ]
  },
  {
   "cell_type": "code",
   "execution_count": 22,
   "metadata": {},
   "outputs": [
    {
     "name": "stdout",
     "output_type": "stream",
     "text": [
      "Start training...\n",
      "[1]\tvalid_0's l2: 2.09765\n",
      "Training until validation scores don't improve for 20 rounds.\n",
      "[2]\tvalid_0's l2: 2.08529\n",
      "[3]\tvalid_0's l2: 2.07449\n",
      "[4]\tvalid_0's l2: 2.06443\n",
      "[5]\tvalid_0's l2: 2.05533\n",
      "[6]\tvalid_0's l2: 2.04363\n",
      "[7]\tvalid_0's l2: 2.03635\n",
      "[8]\tvalid_0's l2: 2.02655\n",
      "[9]\tvalid_0's l2: 2.0186\n",
      "[10]\tvalid_0's l2: 2.01077\n",
      "[11]\tvalid_0's l2: 2.0034\n",
      "[12]\tvalid_0's l2: 1.99479\n",
      "[13]\tvalid_0's l2: 1.98459\n",
      "[14]\tvalid_0's l2: 1.97565\n",
      "[15]\tvalid_0's l2: 1.96973\n",
      "[16]\tvalid_0's l2: 1.96318\n",
      "[17]\tvalid_0's l2: 1.95758\n",
      "[18]\tvalid_0's l2: 1.94976\n",
      "[19]\tvalid_0's l2: 1.94448\n",
      "[20]\tvalid_0's l2: 1.93673\n",
      "[21]\tvalid_0's l2: 1.92974\n",
      "[22]\tvalid_0's l2: 1.92633\n",
      "[23]\tvalid_0's l2: 1.92022\n",
      "[24]\tvalid_0's l2: 1.91578\n",
      "[25]\tvalid_0's l2: 1.91048\n",
      "[26]\tvalid_0's l2: 1.90433\n",
      "[27]\tvalid_0's l2: 1.90055\n",
      "[28]\tvalid_0's l2: 1.89504\n",
      "[29]\tvalid_0's l2: 1.89306\n",
      "[30]\tvalid_0's l2: 1.88747\n",
      "[31]\tvalid_0's l2: 1.88208\n",
      "[32]\tvalid_0's l2: 1.87582\n",
      "[33]\tvalid_0's l2: 1.8717\n",
      "[34]\tvalid_0's l2: 1.86697\n",
      "[35]\tvalid_0's l2: 1.86216\n",
      "[36]\tvalid_0's l2: 1.85811\n",
      "[37]\tvalid_0's l2: 1.85415\n",
      "[38]\tvalid_0's l2: 1.84913\n",
      "[39]\tvalid_0's l2: 1.84487\n",
      "[40]\tvalid_0's l2: 1.83992\n",
      "[41]\tvalid_0's l2: 1.83741\n",
      "[42]\tvalid_0's l2: 1.83359\n",
      "[43]\tvalid_0's l2: 1.82888\n",
      "[44]\tvalid_0's l2: 1.8272\n",
      "[45]\tvalid_0's l2: 1.82639\n",
      "[46]\tvalid_0's l2: 1.8232\n",
      "[47]\tvalid_0's l2: 1.81981\n",
      "[48]\tvalid_0's l2: 1.81746\n",
      "[49]\tvalid_0's l2: 1.81344\n",
      "[50]\tvalid_0's l2: 1.8117\n",
      "[51]\tvalid_0's l2: 1.80979\n",
      "[52]\tvalid_0's l2: 1.80733\n",
      "[53]\tvalid_0's l2: 1.8046\n",
      "[54]\tvalid_0's l2: 1.8001\n",
      "[55]\tvalid_0's l2: 1.79602\n",
      "[56]\tvalid_0's l2: 1.79376\n",
      "[57]\tvalid_0's l2: 1.79155\n",
      "[58]\tvalid_0's l2: 1.78927\n",
      "[59]\tvalid_0's l2: 1.7871\n",
      "[60]\tvalid_0's l2: 1.78437\n",
      "[61]\tvalid_0's l2: 1.78199\n",
      "[62]\tvalid_0's l2: 1.78079\n",
      "[63]\tvalid_0's l2: 1.77845\n",
      "[64]\tvalid_0's l2: 1.77592\n",
      "[65]\tvalid_0's l2: 1.77231\n",
      "[66]\tvalid_0's l2: 1.77033\n",
      "[67]\tvalid_0's l2: 1.76876\n",
      "[68]\tvalid_0's l2: 1.76754\n",
      "[69]\tvalid_0's l2: 1.76553\n",
      "[70]\tvalid_0's l2: 1.76487\n",
      "[71]\tvalid_0's l2: 1.76358\n",
      "[72]\tvalid_0's l2: 1.76187\n",
      "[73]\tvalid_0's l2: 1.75968\n",
      "[74]\tvalid_0's l2: 1.75892\n",
      "[75]\tvalid_0's l2: 1.75795\n",
      "[76]\tvalid_0's l2: 1.75738\n",
      "[77]\tvalid_0's l2: 1.75606\n",
      "[78]\tvalid_0's l2: 1.75346\n",
      "[79]\tvalid_0's l2: 1.75197\n",
      "[80]\tvalid_0's l2: 1.7503\n",
      "[81]\tvalid_0's l2: 1.74866\n",
      "[82]\tvalid_0's l2: 1.74753\n",
      "[83]\tvalid_0's l2: 1.74454\n",
      "[84]\tvalid_0's l2: 1.74257\n",
      "[85]\tvalid_0's l2: 1.74166\n",
      "[86]\tvalid_0's l2: 1.74021\n",
      "[87]\tvalid_0's l2: 1.73874\n",
      "[88]\tvalid_0's l2: 1.73725\n",
      "[89]\tvalid_0's l2: 1.73643\n",
      "[90]\tvalid_0's l2: 1.73463\n",
      "[91]\tvalid_0's l2: 1.73388\n",
      "[92]\tvalid_0's l2: 1.733\n",
      "[93]\tvalid_0's l2: 1.73279\n",
      "[94]\tvalid_0's l2: 1.73291\n",
      "[95]\tvalid_0's l2: 1.7315\n",
      "[96]\tvalid_0's l2: 1.7304\n",
      "[97]\tvalid_0's l2: 1.72822\n",
      "[98]\tvalid_0's l2: 1.72622\n",
      "[99]\tvalid_0's l2: 1.72585\n",
      "[100]\tvalid_0's l2: 1.72385\n",
      "[101]\tvalid_0's l2: 1.72351\n",
      "[102]\tvalid_0's l2: 1.72168\n",
      "[103]\tvalid_0's l2: 1.72037\n",
      "[104]\tvalid_0's l2: 1.71881\n",
      "[105]\tvalid_0's l2: 1.71757\n",
      "[106]\tvalid_0's l2: 1.716\n",
      "[107]\tvalid_0's l2: 1.71441\n",
      "[108]\tvalid_0's l2: 1.7141\n",
      "[109]\tvalid_0's l2: 1.7127\n",
      "[110]\tvalid_0's l2: 1.71101\n",
      "[111]\tvalid_0's l2: 1.71076\n",
      "[112]\tvalid_0's l2: 1.70959\n",
      "[113]\tvalid_0's l2: 1.70923\n",
      "[114]\tvalid_0's l2: 1.70946\n",
      "[115]\tvalid_0's l2: 1.70899\n",
      "[116]\tvalid_0's l2: 1.70716\n",
      "[117]\tvalid_0's l2: 1.70747\n",
      "[118]\tvalid_0's l2: 1.70691\n",
      "[119]\tvalid_0's l2: 1.7065\n",
      "[120]\tvalid_0's l2: 1.70656\n",
      "[121]\tvalid_0's l2: 1.70659\n",
      "[122]\tvalid_0's l2: 1.70551\n",
      "[123]\tvalid_0's l2: 1.70445\n",
      "[124]\tvalid_0's l2: 1.70258\n",
      "[125]\tvalid_0's l2: 1.70269\n",
      "[126]\tvalid_0's l2: 1.70133\n",
      "[127]\tvalid_0's l2: 1.70118\n",
      "[128]\tvalid_0's l2: 1.69992\n",
      "[129]\tvalid_0's l2: 1.69928\n",
      "[130]\tvalid_0's l2: 1.69819\n",
      "[131]\tvalid_0's l2: 1.69777\n",
      "[132]\tvalid_0's l2: 1.69771\n",
      "[133]\tvalid_0's l2: 1.69647\n",
      "[134]\tvalid_0's l2: 1.69657\n",
      "[135]\tvalid_0's l2: 1.69663\n",
      "[136]\tvalid_0's l2: 1.69651\n",
      "[137]\tvalid_0's l2: 1.6957\n",
      "[138]\tvalid_0's l2: 1.69403\n",
      "[139]\tvalid_0's l2: 1.69312\n",
      "[140]\tvalid_0's l2: 1.69315\n",
      "[141]\tvalid_0's l2: 1.69306\n",
      "[142]\tvalid_0's l2: 1.69255\n",
      "[143]\tvalid_0's l2: 1.69172\n",
      "[144]\tvalid_0's l2: 1.69199\n",
      "[145]\tvalid_0's l2: 1.69287\n",
      "[146]\tvalid_0's l2: 1.69227\n",
      "[147]\tvalid_0's l2: 1.6923\n",
      "[148]\tvalid_0's l2: 1.69222\n",
      "[149]\tvalid_0's l2: 1.69124\n",
      "[150]\tvalid_0's l2: 1.69041\n",
      "[151]\tvalid_0's l2: 1.69004\n",
      "[152]\tvalid_0's l2: 1.69025\n",
      "[153]\tvalid_0's l2: 1.6893\n",
      "[154]\tvalid_0's l2: 1.69015\n",
      "[155]\tvalid_0's l2: 1.69023\n",
      "[156]\tvalid_0's l2: 1.69049\n",
      "[157]\tvalid_0's l2: 1.69049\n",
      "[158]\tvalid_0's l2: 1.69038\n",
      "[159]\tvalid_0's l2: 1.68963\n",
      "[160]\tvalid_0's l2: 1.68919\n",
      "[161]\tvalid_0's l2: 1.68878\n",
      "[162]\tvalid_0's l2: 1.68928\n",
      "[163]\tvalid_0's l2: 1.68866\n",
      "[164]\tvalid_0's l2: 1.68875\n",
      "[165]\tvalid_0's l2: 1.68821\n",
      "[166]\tvalid_0's l2: 1.68803\n",
      "[167]\tvalid_0's l2: 1.68774\n",
      "[168]\tvalid_0's l2: 1.68799\n",
      "[169]\tvalid_0's l2: 1.68662\n",
      "[170]\tvalid_0's l2: 1.68604\n",
      "[171]\tvalid_0's l2: 1.68572\n",
      "[172]\tvalid_0's l2: 1.68549\n",
      "[173]\tvalid_0's l2: 1.68617\n",
      "[174]\tvalid_0's l2: 1.68654\n",
      "[175]\tvalid_0's l2: 1.68749\n",
      "[176]\tvalid_0's l2: 1.68769\n",
      "[177]\tvalid_0's l2: 1.68786\n",
      "[178]\tvalid_0's l2: 1.68697\n",
      "[179]\tvalid_0's l2: 1.68637\n",
      "[180]\tvalid_0's l2: 1.68601\n",
      "[181]\tvalid_0's l2: 1.68653\n",
      "[182]\tvalid_0's l2: 1.686\n",
      "[183]\tvalid_0's l2: 1.68615\n",
      "[184]\tvalid_0's l2: 1.68583\n",
      "[185]\tvalid_0's l2: 1.68493\n",
      "[186]\tvalid_0's l2: 1.68446\n",
      "[187]\tvalid_0's l2: 1.68366\n",
      "[188]\tvalid_0's l2: 1.68371\n",
      "[189]\tvalid_0's l2: 1.68219\n",
      "[190]\tvalid_0's l2: 1.68168\n",
      "[191]\tvalid_0's l2: 1.6805\n",
      "[192]\tvalid_0's l2: 1.67995\n",
      "[193]\tvalid_0's l2: 1.67915\n",
      "[194]\tvalid_0's l2: 1.67775\n",
      "[195]\tvalid_0's l2: 1.67823\n",
      "[196]\tvalid_0's l2: 1.67819\n",
      "[197]\tvalid_0's l2: 1.67798\n",
      "[198]\tvalid_0's l2: 1.67648\n",
      "[199]\tvalid_0's l2: 1.67624\n",
      "[200]\tvalid_0's l2: 1.67536\n",
      "[201]\tvalid_0's l2: 1.67544\n",
      "[202]\tvalid_0's l2: 1.67522\n",
      "[203]\tvalid_0's l2: 1.67391\n",
      "[204]\tvalid_0's l2: 1.67271\n",
      "[205]\tvalid_0's l2: 1.67231\n",
      "[206]\tvalid_0's l2: 1.67314\n",
      "[207]\tvalid_0's l2: 1.67315\n",
      "[208]\tvalid_0's l2: 1.67265\n",
      "[209]\tvalid_0's l2: 1.67227\n",
      "[210]\tvalid_0's l2: 1.6719\n",
      "[211]\tvalid_0's l2: 1.67112\n",
      "[212]\tvalid_0's l2: 1.67018\n",
      "[213]\tvalid_0's l2: 1.67032\n",
      "[214]\tvalid_0's l2: 1.66974\n",
      "[215]\tvalid_0's l2: 1.66998\n",
      "[216]\tvalid_0's l2: 1.6699\n",
      "[217]\tvalid_0's l2: 1.66986\n",
      "[218]\tvalid_0's l2: 1.67017\n",
      "[219]\tvalid_0's l2: 1.66983\n",
      "[220]\tvalid_0's l2: 1.66904\n",
      "[221]\tvalid_0's l2: 1.669\n",
      "[222]\tvalid_0's l2: 1.66939\n",
      "[223]\tvalid_0's l2: 1.66899\n",
      "[224]\tvalid_0's l2: 1.66845\n",
      "[225]\tvalid_0's l2: 1.66901\n",
      "[226]\tvalid_0's l2: 1.66935\n",
      "[227]\tvalid_0's l2: 1.66954\n",
      "[228]\tvalid_0's l2: 1.66965\n",
      "[229]\tvalid_0's l2: 1.67\n",
      "[230]\tvalid_0's l2: 1.67039\n",
      "[231]\tvalid_0's l2: 1.67055\n",
      "[232]\tvalid_0's l2: 1.67096\n",
      "[233]\tvalid_0's l2: 1.67086\n",
      "[234]\tvalid_0's l2: 1.672\n",
      "[235]\tvalid_0's l2: 1.67215\n",
      "[236]\tvalid_0's l2: 1.67272\n",
      "[237]\tvalid_0's l2: 1.6733\n",
      "[238]\tvalid_0's l2: 1.67285\n",
      "[239]\tvalid_0's l2: 1.67254\n",
      "[240]\tvalid_0's l2: 1.67289\n",
      "[241]\tvalid_0's l2: 1.67197\n",
      "[242]\tvalid_0's l2: 1.67282\n",
      "[243]\tvalid_0's l2: 1.67237\n",
      "[244]\tvalid_0's l2: 1.67161\n",
      "Early stopping, best iteration is:\n",
      "[224]\tvalid_0's l2: 1.66845\n",
      "Start predicting...\n",
      "1/2 Mean squared error: 0.834223\n"
     ]
    }
   ],
   "source": [
    "import lightgbm as lgb\n",
    "from sklearn.metrics import mean_squared_error\n",
    "\n",
    "# create dataset for lightgbm\n",
    "lgb_train = lgb.Dataset(X_train, y_train, feature_name = features)\n",
    "lgb_eval = lgb.Dataset(X_test, y_test, reference=lgb_train, feature_name = features)\n",
    "\n",
    "train_all = lgb.Dataset(train_X, train_Y, feature_name = features)\n",
    "\n",
    "# specify your configurations as a dict\n",
    "\n",
    "print('Start training...')\n",
    "# train\n",
    "gbm = lgb.train(params,\n",
    "                   lgb_train,\n",
    "                    num_boost_round=1000,\n",
    "                    valid_sets=lgb_eval,\n",
    "                    early_stopping_rounds=20)\n",
    "\n",
    "print('Start predicting...')\n",
    "# predict\n",
    "y_pred = gbm.predict(X_test, num_iteration=gbm.best_iteration)\n",
    "# eval\n",
    "error(y_test, y_pred)\n",
    "\n",
    "# online\n",
    "\n",
    "predict = gbm.predict(test_X, num_iteration=gbm.best_iteration)\n",
    "data1 = pd.DataFrame(predict)\n",
    "# save\n",
    "save(data1, 'lgb')\n",
    "\n",
    "# gbm_online = lgb.train(params,\n",
    "#                 train_all,\n",
    "#                 num_boost_round=280)\n",
    "# # predict\n",
    "# predict = gbm_online.predict(test_X, num_iteration=gbm_online.best_iteration)\n",
    "# data1 = pd.DataFrame(predict)\n",
    "# # save\n",
    "# save(data1, 'lgb')"
   ]
  },
  {
   "cell_type": "code",
   "execution_count": null,
   "metadata": {
    "collapsed": true
   },
   "outputs": [],
   "source": [
    "plt_encoding_error()"
   ]
  },
  {
   "cell_type": "code",
   "execution_count": null,
   "metadata": {
    "collapsed": true
   },
   "outputs": [],
   "source": [
    "lgb.plot_importance(gbm)\n",
    "plt.show()"
   ]
  },
  {
   "cell_type": "code",
   "execution_count": null,
   "metadata": {
    "collapsed": true
   },
   "outputs": [],
   "source": []
  },
  {
   "cell_type": "code",
   "execution_count": null,
   "metadata": {
    "collapsed": true
   },
   "outputs": [],
   "source": []
  }
 ],
 "metadata": {
  "kernelspec": {
   "display_name": "Python 3",
   "language": "python",
   "name": "python3"
  },
  "language_info": {
   "codemirror_mode": {
    "name": "ipython",
    "version": 3
   },
   "file_extension": ".py",
   "mimetype": "text/x-python",
   "name": "python",
   "nbconvert_exporter": "python",
   "pygments_lexer": "ipython3",
   "version": "3.6.3"
  }
 },
 "nbformat": 4,
 "nbformat_minor": 2
}
